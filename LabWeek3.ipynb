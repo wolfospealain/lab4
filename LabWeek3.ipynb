{
  "cells": [
    {
      "cell_type": "markdown",
      "metadata": {
        "id": "view-in-github",
        "colab_type": "text"
      },
      "source": [
        "<a href=\"https://colab.research.google.com/github/wolfospealain/lab4/blob/main/LabWeek3.ipynb\" target=\"_parent\"><img src=\"https://colab.research.google.com/assets/colab-badge.svg\" alt=\"Open In Colab\"/></a>"
      ]
    },
    {
      "cell_type": "markdown",
      "id": "a3d06c08",
      "metadata": {
        "id": "a3d06c08"
      },
      "source": [
        "# Lab Work"
      ]
    },
    {
      "cell_type": "markdown",
      "id": "8316d0bf",
      "metadata": {
        "id": "8316d0bf"
      },
      "source": [
        "- Ian Spillane\n",
        "- 40030472@hcstudent.net\n",
        "- BDA101 Software Development for Business Data Analytics\n",
        "- Week 3\n",
        "- 19/10/22"
      ]
    },
    {
      "cell_type": "code",
      "execution_count": null,
      "id": "b5d1b9c2",
      "metadata": {
        "id": "b5d1b9c2"
      },
      "outputs": [],
      "source": [
        "import pandas as pd"
      ]
    },
    {
      "cell_type": "markdown",
      "id": "fe611c06",
      "metadata": {
        "id": "fe611c06"
      },
      "source": [
        "## Task 9"
      ]
    },
    {
      "cell_type": "code",
      "execution_count": null,
      "id": "e225238c",
      "metadata": {
        "id": "e225238c"
      },
      "outputs": [],
      "source": [
        "df = pd.read_csv(\"titanic.csv\")"
      ]
    },
    {
      "cell_type": "code",
      "execution_count": null,
      "id": "f3d1b044",
      "metadata": {
        "id": "f3d1b044",
        "outputId": "49543648-c0f1-452e-f91b-037668e96a50"
      },
      "outputs": [
        {
          "data": {
            "text/plain": [
              "PassengerId      0\n",
              "Survived         0\n",
              "Pclass           0\n",
              "Name             0\n",
              "Sex              0\n",
              "Age            177\n",
              "SibSp            0\n",
              "Parch            0\n",
              "Ticket           0\n",
              "Fare             0\n",
              "Cabin          687\n",
              "Embarked         2\n",
              "dtype: int64"
            ]
          },
          "execution_count": 6,
          "metadata": {},
          "output_type": "execute_result"
        }
      ],
      "source": [
        "df.isna().sum()"
      ]
    },
    {
      "cell_type": "markdown",
      "id": "e9c9dbd9",
      "metadata": {
        "id": "e9c9dbd9"
      },
      "source": [
        "* isna() returns True or False for each datum being NA or not.\n",
        "* sum() calculates the total: 1 for True, 0 for False."
      ]
    },
    {
      "cell_type": "code",
      "execution_count": null,
      "id": "d282ee08",
      "metadata": {
        "id": "d282ee08",
        "outputId": "73d39484-93c6-415b-a3f8-4b1bb853300e"
      },
      "outputs": [
        {
          "data": {
            "text/plain": [
              "PassengerId    False\n",
              "Survived       False\n",
              "Pclass         False\n",
              "Name           False\n",
              "Sex            False\n",
              "Age             True\n",
              "SibSp          False\n",
              "Parch          False\n",
              "Ticket         False\n",
              "Fare           False\n",
              "Cabin           True\n",
              "Embarked        True\n",
              "dtype: bool"
            ]
          },
          "execution_count": 9,
          "metadata": {},
          "output_type": "execute_result"
        }
      ],
      "source": [
        "df.isna().any()"
      ]
    },
    {
      "cell_type": "markdown",
      "id": "fced3b55",
      "metadata": {
        "id": "fced3b55"
      },
      "source": [
        "* isna() returns True or False for each datum being NA or not.\n",
        "* any() returns if any element is True."
      ]
    },
    {
      "cell_type": "code",
      "execution_count": null,
      "id": "587bcaf3",
      "metadata": {
        "id": "587bcaf3"
      },
      "outputs": [],
      "source": [
        "df['Age'].fillna(float(df['Age'].mean()), inplace=True)"
      ]
    },
    {
      "cell_type": "code",
      "execution_count": null,
      "id": "790507a5",
      "metadata": {
        "id": "790507a5",
        "outputId": "ee00c78e-41e8-468e-bc50-96267f884428"
      },
      "outputs": [
        {
          "data": {
            "text/plain": [
              "PassengerId      0\n",
              "Survived         0\n",
              "Pclass           0\n",
              "Name             0\n",
              "Sex              0\n",
              "Age              0\n",
              "SibSp            0\n",
              "Parch            0\n",
              "Ticket           0\n",
              "Fare             0\n",
              "Cabin          687\n",
              "Embarked         2\n",
              "dtype: int64"
            ]
          },
          "execution_count": 12,
          "metadata": {},
          "output_type": "execute_result"
        }
      ],
      "source": [
        "df.isna().sum()"
      ]
    },
    {
      "cell_type": "markdown",
      "id": "110b388f",
      "metadata": {
        "id": "110b388f"
      },
      "source": [
        "* fillna() with inplace=True replaces Na in the data with the passed value.\n",
        "* mean() calculates the average of the column.\n",
        "* So, any Na in Age was replaced by the mean value,\n",
        "* And so, sum() shows no Na values remaining in Age."
      ]
    },
    {
      "cell_type": "markdown",
      "id": "d2353f1c",
      "metadata": {
        "id": "d2353f1c"
      },
      "source": [
        "## Task 10"
      ]
    },
    {
      "cell_type": "code",
      "execution_count": null,
      "id": "cda0c407",
      "metadata": {
        "id": "cda0c407"
      },
      "outputs": [],
      "source": [
        "medals = {\"Gold\":[137,47,64,50,44,20,23,8,4,17],\n",
        "          \"Silver\":[52,43,55,28,30,55,34,38,4,13],\n",
        "          \"Bronze\":[67,67,26,35,35,21,25,24,61,34]}\n",
        "index = [\"United States\", \"Germany\", \"Great Britain\", \"Russia\", \"China\", \"France\", \"Australia\", \"Italy\", \"Canada\", \"Japan\"]"
      ]
    },
    {
      "cell_type": "code",
      "execution_count": null,
      "id": "b0ff5e9c",
      "metadata": {
        "id": "b0ff5e9c"
      },
      "outputs": [],
      "source": [
        "df = pd.DataFrame(medals, index)"
      ]
    },
    {
      "cell_type": "code",
      "execution_count": null,
      "id": "a46e20ae",
      "metadata": {
        "id": "a46e20ae"
      },
      "outputs": [],
      "source": [
        "df.to_csv(\"olympicmedals.csv\")"
      ]
    },
    {
      "cell_type": "markdown",
      "id": "35e20be9",
      "metadata": {
        "id": "35e20be9"
      },
      "source": [
        "## Task 11"
      ]
    },
    {
      "cell_type": "code",
      "execution_count": null,
      "id": "af30c007",
      "metadata": {
        "id": "af30c007"
      },
      "outputs": [],
      "source": [
        "import json"
      ]
    },
    {
      "cell_type": "code",
      "execution_count": null,
      "id": "232d8409",
      "metadata": {
        "id": "232d8409"
      },
      "outputs": [],
      "source": [
        "df.to_json(\"olympicmedals.json\")"
      ]
    },
    {
      "cell_type": "code",
      "execution_count": null,
      "id": "bab81eaa",
      "metadata": {
        "id": "bab81eaa",
        "outputId": "626d32d1-5256-46e3-b2f8-4e172a002ce9"
      },
      "outputs": [
        {
          "data": {
            "text/plain": [
              "{'Gold': {'United States': 137,\n",
              "  'Germany': 47,\n",
              "  'Great Britain': 64,\n",
              "  'Russia': 50,\n",
              "  'China': 44,\n",
              "  'France': 20,\n",
              "  'Australia': 23,\n",
              "  'Italy': 8,\n",
              "  'Canada': 4,\n",
              "  'Japan': 17},\n",
              " 'Silver': {'United States': 52,\n",
              "  'Germany': 43,\n",
              "  'Great Britain': 55,\n",
              "  'Russia': 28,\n",
              "  'China': 30,\n",
              "  'France': 55,\n",
              "  'Australia': 34,\n",
              "  'Italy': 38,\n",
              "  'Canada': 4,\n",
              "  'Japan': 13},\n",
              " 'Bronze': {'United States': 67,\n",
              "  'Germany': 67,\n",
              "  'Great Britain': 26,\n",
              "  'Russia': 35,\n",
              "  'China': 35,\n",
              "  'France': 21,\n",
              "  'Australia': 25,\n",
              "  'Italy': 24,\n",
              "  'Canada': 61,\n",
              "  'Japan': 34}}"
            ]
          },
          "execution_count": 26,
          "metadata": {},
          "output_type": "execute_result"
        }
      ],
      "source": [
        "json.loads(open(\"olympicmedals.json\").read())"
      ]
    },
    {
      "cell_type": "code",
      "execution_count": null,
      "id": "4817fa7a",
      "metadata": {
        "id": "4817fa7a"
      },
      "outputs": [],
      "source": [
        "df = pd.DataFrame(json.loads(open(\"olympicmedals.json\").read()))"
      ]
    },
    {
      "cell_type": "code",
      "execution_count": null,
      "id": "149dbde8",
      "metadata": {
        "id": "149dbde8",
        "outputId": "d21f7ce5-cd71-4423-cd47-7a9ad0aeaa36"
      },
      "outputs": [
        {
          "data": {
            "text/html": [
              "<div>\n",
              "<style scoped>\n",
              "    .dataframe tbody tr th:only-of-type {\n",
              "        vertical-align: middle;\n",
              "    }\n",
              "\n",
              "    .dataframe tbody tr th {\n",
              "        vertical-align: top;\n",
              "    }\n",
              "\n",
              "    .dataframe thead th {\n",
              "        text-align: right;\n",
              "    }\n",
              "</style>\n",
              "<table border=\"1\" class=\"dataframe\">\n",
              "  <thead>\n",
              "    <tr style=\"text-align: right;\">\n",
              "      <th></th>\n",
              "      <th>Gold</th>\n",
              "      <th>Silver</th>\n",
              "      <th>Bronze</th>\n",
              "    </tr>\n",
              "  </thead>\n",
              "  <tbody>\n",
              "    <tr>\n",
              "      <th>United States</th>\n",
              "      <td>137</td>\n",
              "      <td>52</td>\n",
              "      <td>67</td>\n",
              "    </tr>\n",
              "    <tr>\n",
              "      <th>Germany</th>\n",
              "      <td>47</td>\n",
              "      <td>43</td>\n",
              "      <td>67</td>\n",
              "    </tr>\n",
              "    <tr>\n",
              "      <th>Great Britain</th>\n",
              "      <td>64</td>\n",
              "      <td>55</td>\n",
              "      <td>26</td>\n",
              "    </tr>\n",
              "    <tr>\n",
              "      <th>Russia</th>\n",
              "      <td>50</td>\n",
              "      <td>28</td>\n",
              "      <td>35</td>\n",
              "    </tr>\n",
              "    <tr>\n",
              "      <th>China</th>\n",
              "      <td>44</td>\n",
              "      <td>30</td>\n",
              "      <td>35</td>\n",
              "    </tr>\n",
              "    <tr>\n",
              "      <th>France</th>\n",
              "      <td>20</td>\n",
              "      <td>55</td>\n",
              "      <td>21</td>\n",
              "    </tr>\n",
              "    <tr>\n",
              "      <th>Australia</th>\n",
              "      <td>23</td>\n",
              "      <td>34</td>\n",
              "      <td>25</td>\n",
              "    </tr>\n",
              "    <tr>\n",
              "      <th>Italy</th>\n",
              "      <td>8</td>\n",
              "      <td>38</td>\n",
              "      <td>24</td>\n",
              "    </tr>\n",
              "    <tr>\n",
              "      <th>Canada</th>\n",
              "      <td>4</td>\n",
              "      <td>4</td>\n",
              "      <td>61</td>\n",
              "    </tr>\n",
              "    <tr>\n",
              "      <th>Japan</th>\n",
              "      <td>17</td>\n",
              "      <td>13</td>\n",
              "      <td>34</td>\n",
              "    </tr>\n",
              "  </tbody>\n",
              "</table>\n",
              "</div>"
            ],
            "text/plain": [
              "               Gold  Silver  Bronze\n",
              "United States   137      52      67\n",
              "Germany          47      43      67\n",
              "Great Britain    64      55      26\n",
              "Russia           50      28      35\n",
              "China            44      30      35\n",
              "France           20      55      21\n",
              "Australia        23      34      25\n",
              "Italy             8      38      24\n",
              "Canada            4       4      61\n",
              "Japan            17      13      34"
            ]
          },
          "execution_count": 28,
          "metadata": {},
          "output_type": "execute_result"
        }
      ],
      "source": [
        "df"
      ]
    },
    {
      "cell_type": "markdown",
      "id": "ac08de5d",
      "metadata": {
        "id": "ac08de5d"
      },
      "source": [
        "## Task 12"
      ]
    },
    {
      "cell_type": "code",
      "execution_count": null,
      "id": "83ef8f6d",
      "metadata": {
        "id": "83ef8f6d"
      },
      "outputs": [],
      "source": [
        "import numpy as np\n",
        "df = pd.DataFrame({\"name\": ['Superman', 'Batman', 'Spiderman'],\n",
        "                   \"toy\": [np.nan, 'Batmobile', 'Spiderman toy'],\n",
        "                   \"born\": [np.nan, pd.Timestamp(\"1956-06-26\"), np.nan]})"
      ]
    },
    {
      "cell_type": "code",
      "execution_count": null,
      "id": "a5e428d9",
      "metadata": {
        "id": "a5e428d9",
        "outputId": "606bc071-e15f-4392-efb1-37158638824b"
      },
      "outputs": [
        {
          "data": {
            "text/html": [
              "<div>\n",
              "<style scoped>\n",
              "    .dataframe tbody tr th:only-of-type {\n",
              "        vertical-align: middle;\n",
              "    }\n",
              "\n",
              "    .dataframe tbody tr th {\n",
              "        vertical-align: top;\n",
              "    }\n",
              "\n",
              "    .dataframe thead th {\n",
              "        text-align: right;\n",
              "    }\n",
              "</style>\n",
              "<table border=\"1\" class=\"dataframe\">\n",
              "  <thead>\n",
              "    <tr style=\"text-align: right;\">\n",
              "      <th></th>\n",
              "      <th>name</th>\n",
              "      <th>toy</th>\n",
              "      <th>born</th>\n",
              "    </tr>\n",
              "  </thead>\n",
              "  <tbody>\n",
              "    <tr>\n",
              "      <th>0</th>\n",
              "      <td>Superman</td>\n",
              "      <td>NaN</td>\n",
              "      <td>NaT</td>\n",
              "    </tr>\n",
              "    <tr>\n",
              "      <th>1</th>\n",
              "      <td>Batman</td>\n",
              "      <td>Batmobile</td>\n",
              "      <td>1956-06-26</td>\n",
              "    </tr>\n",
              "    <tr>\n",
              "      <th>2</th>\n",
              "      <td>Spiderman</td>\n",
              "      <td>Spiderman toy</td>\n",
              "      <td>NaT</td>\n",
              "    </tr>\n",
              "  </tbody>\n",
              "</table>\n",
              "</div>"
            ],
            "text/plain": [
              "        name            toy       born\n",
              "0   Superman            NaN        NaT\n",
              "1     Batman      Batmobile 1956-06-26\n",
              "2  Spiderman  Spiderman toy        NaT"
            ]
          },
          "execution_count": 44,
          "metadata": {},
          "output_type": "execute_result"
        }
      ],
      "source": [
        "df"
      ]
    },
    {
      "cell_type": "code",
      "execution_count": null,
      "id": "c1a39360",
      "metadata": {
        "id": "c1a39360",
        "outputId": "cfb30506-8dae-4d29-b1b4-c6313cef284d"
      },
      "outputs": [
        {
          "data": {
            "text/html": [
              "<div>\n",
              "<style scoped>\n",
              "    .dataframe tbody tr th:only-of-type {\n",
              "        vertical-align: middle;\n",
              "    }\n",
              "\n",
              "    .dataframe tbody tr th {\n",
              "        vertical-align: top;\n",
              "    }\n",
              "\n",
              "    .dataframe thead th {\n",
              "        text-align: right;\n",
              "    }\n",
              "</style>\n",
              "<table border=\"1\" class=\"dataframe\">\n",
              "  <thead>\n",
              "    <tr style=\"text-align: right;\">\n",
              "      <th></th>\n",
              "      <th>name</th>\n",
              "      <th>toy</th>\n",
              "      <th>born</th>\n",
              "    </tr>\n",
              "  </thead>\n",
              "  <tbody>\n",
              "    <tr>\n",
              "      <th>0</th>\n",
              "      <td>False</td>\n",
              "      <td>True</td>\n",
              "      <td>True</td>\n",
              "    </tr>\n",
              "    <tr>\n",
              "      <th>1</th>\n",
              "      <td>False</td>\n",
              "      <td>False</td>\n",
              "      <td>False</td>\n",
              "    </tr>\n",
              "    <tr>\n",
              "      <th>2</th>\n",
              "      <td>False</td>\n",
              "      <td>False</td>\n",
              "      <td>True</td>\n",
              "    </tr>\n",
              "  </tbody>\n",
              "</table>\n",
              "</div>"
            ],
            "text/plain": [
              "    name    toy   born\n",
              "0  False   True   True\n",
              "1  False  False  False\n",
              "2  False  False   True"
            ]
          },
          "execution_count": 45,
          "metadata": {},
          "output_type": "execute_result"
        }
      ],
      "source": [
        "df.isna()"
      ]
    },
    {
      "cell_type": "code",
      "execution_count": null,
      "id": "d61a6024",
      "metadata": {
        "id": "d61a6024",
        "outputId": "9a6217ef-fdce-4833-8932-51b824b760fb"
      },
      "outputs": [
        {
          "data": {
            "text/html": [
              "<div>\n",
              "<style scoped>\n",
              "    .dataframe tbody tr th:only-of-type {\n",
              "        vertical-align: middle;\n",
              "    }\n",
              "\n",
              "    .dataframe tbody tr th {\n",
              "        vertical-align: top;\n",
              "    }\n",
              "\n",
              "    .dataframe thead th {\n",
              "        text-align: right;\n",
              "    }\n",
              "</style>\n",
              "<table border=\"1\" class=\"dataframe\">\n",
              "  <thead>\n",
              "    <tr style=\"text-align: right;\">\n",
              "      <th></th>\n",
              "      <th>name</th>\n",
              "      <th>toy</th>\n",
              "      <th>born</th>\n",
              "    </tr>\n",
              "  </thead>\n",
              "  <tbody>\n",
              "    <tr>\n",
              "      <th>1</th>\n",
              "      <td>Batman</td>\n",
              "      <td>Batmobile</td>\n",
              "      <td>1956-06-26</td>\n",
              "    </tr>\n",
              "    <tr>\n",
              "      <th>2</th>\n",
              "      <td>Spiderman</td>\n",
              "      <td>Spiderman toy</td>\n",
              "      <td>NaT</td>\n",
              "    </tr>\n",
              "  </tbody>\n",
              "</table>\n",
              "</div>"
            ],
            "text/plain": [
              "        name            toy       born\n",
              "1     Batman      Batmobile 1956-06-26\n",
              "2  Spiderman  Spiderman toy        NaT"
            ]
          },
          "execution_count": 46,
          "metadata": {},
          "output_type": "execute_result"
        }
      ],
      "source": [
        "df.dropna(thresh=2)"
      ]
    },
    {
      "cell_type": "code",
      "execution_count": null,
      "id": "d7042289",
      "metadata": {
        "id": "d7042289",
        "outputId": "068b3f89-80a8-4050-d0f3-a4c8f579ef72"
      },
      "outputs": [
        {
          "data": {
            "text/html": [
              "<div>\n",
              "<style scoped>\n",
              "    .dataframe tbody tr th:only-of-type {\n",
              "        vertical-align: middle;\n",
              "    }\n",
              "\n",
              "    .dataframe tbody tr th {\n",
              "        vertical-align: top;\n",
              "    }\n",
              "\n",
              "    .dataframe thead th {\n",
              "        text-align: right;\n",
              "    }\n",
              "</style>\n",
              "<table border=\"1\" class=\"dataframe\">\n",
              "  <thead>\n",
              "    <tr style=\"text-align: right;\">\n",
              "      <th></th>\n",
              "      <th>name</th>\n",
              "      <th>toy</th>\n",
              "      <th>born</th>\n",
              "    </tr>\n",
              "  </thead>\n",
              "  <tbody>\n",
              "    <tr>\n",
              "      <th>1</th>\n",
              "      <td>Batman</td>\n",
              "      <td>Batmobile</td>\n",
              "      <td>1956-06-26</td>\n",
              "    </tr>\n",
              "    <tr>\n",
              "      <th>2</th>\n",
              "      <td>Spiderman</td>\n",
              "      <td>Spiderman toy</td>\n",
              "      <td>NaT</td>\n",
              "    </tr>\n",
              "  </tbody>\n",
              "</table>\n",
              "</div>"
            ],
            "text/plain": [
              "        name            toy       born\n",
              "1     Batman      Batmobile 1956-06-26\n",
              "2  Spiderman  Spiderman toy        NaT"
            ]
          },
          "execution_count": 48,
          "metadata": {},
          "output_type": "execute_result"
        }
      ],
      "source": [
        "df.dropna(subset=[\"toy\"])"
      ]
    },
    {
      "cell_type": "code",
      "execution_count": null,
      "id": "22781701",
      "metadata": {
        "id": "22781701"
      },
      "outputs": [],
      "source": []
    }
  ],
  "metadata": {
    "kernelspec": {
      "display_name": "Python 3 (ipykernel)",
      "language": "python",
      "name": "python3"
    },
    "language_info": {
      "codemirror_mode": {
        "name": "ipython",
        "version": 3
      },
      "file_extension": ".py",
      "mimetype": "text/x-python",
      "name": "python",
      "nbconvert_exporter": "python",
      "pygments_lexer": "ipython3",
      "version": "3.9.12"
    },
    "colab": {
      "provenance": [],
      "include_colab_link": true
    }
  },
  "nbformat": 4,
  "nbformat_minor": 5
}